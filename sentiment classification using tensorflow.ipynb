{
 "cells": [
  {
   "cell_type": "markdown",
   "id": "b5e4ffff",
   "metadata": {},
   "source": [
    "## Sentiment classification using tensorflow\n",
    "\n",
    "- Dataset with cleaned text is chosen.\n",
    "- Steps followed in this notebook.\n",
    "    1. Data Importation\n",
    "    2. Exploratory Data Analysis\n",
    "    3. Defining the model\n",
    "    4. Training the model\n",
    "    5. Model evaluation\n",
    "    6. Future work"
   ]
  },
  {
   "cell_type": "markdown",
   "id": "7a9c7eb3",
   "metadata": {},
   "source": [
    "## 1. Data Importation\n",
    "- Data is imported using pandas and texts are classified into 3 classes (-1: negative, 0: neutral and 1: positive)\n",
    "- Multi-class classification"
   ]
  },
  {
   "cell_type": "code",
   "execution_count": 1,
   "id": "5516714c",
   "metadata": {},
   "outputs": [],
   "source": [
    "#Import Libraries\n",
    "import pandas as pd\n",
    "import numpy as np"
   ]
  },
  {
   "cell_type": "code",
   "execution_count": 2,
   "id": "46a1b068",
   "metadata": {},
   "outputs": [
    {
     "data": {
      "text/html": [
       "<div>\n",
       "<style scoped>\n",
       "    .dataframe tbody tr th:only-of-type {\n",
       "        vertical-align: middle;\n",
       "    }\n",
       "\n",
       "    .dataframe tbody tr th {\n",
       "        vertical-align: top;\n",
       "    }\n",
       "\n",
       "    .dataframe thead th {\n",
       "        text-align: right;\n",
       "    }\n",
       "</style>\n",
       "<table border=\"1\" class=\"dataframe\">\n",
       "  <thead>\n",
       "    <tr style=\"text-align: right;\">\n",
       "      <th></th>\n",
       "      <th>clean_text</th>\n",
       "      <th>category</th>\n",
       "    </tr>\n",
       "  </thead>\n",
       "  <tbody>\n",
       "    <tr>\n",
       "      <th>0</th>\n",
       "      <td>when modi promised “minimum government maximum...</td>\n",
       "      <td>-1.0</td>\n",
       "    </tr>\n",
       "    <tr>\n",
       "      <th>1</th>\n",
       "      <td>talk all the nonsense and continue all the dra...</td>\n",
       "      <td>0.0</td>\n",
       "    </tr>\n",
       "    <tr>\n",
       "      <th>2</th>\n",
       "      <td>what did just say vote for modi  welcome bjp t...</td>\n",
       "      <td>1.0</td>\n",
       "    </tr>\n",
       "    <tr>\n",
       "      <th>3</th>\n",
       "      <td>asking his supporters prefix chowkidar their n...</td>\n",
       "      <td>1.0</td>\n",
       "    </tr>\n",
       "    <tr>\n",
       "      <th>4</th>\n",
       "      <td>answer who among these the most powerful world...</td>\n",
       "      <td>1.0</td>\n",
       "    </tr>\n",
       "    <tr>\n",
       "      <th>...</th>\n",
       "      <td>...</td>\n",
       "      <td>...</td>\n",
       "    </tr>\n",
       "    <tr>\n",
       "      <th>162975</th>\n",
       "      <td>why these 456 crores paid neerav modi not reco...</td>\n",
       "      <td>-1.0</td>\n",
       "    </tr>\n",
       "    <tr>\n",
       "      <th>162976</th>\n",
       "      <td>dear rss terrorist payal gawar what about modi...</td>\n",
       "      <td>-1.0</td>\n",
       "    </tr>\n",
       "    <tr>\n",
       "      <th>162977</th>\n",
       "      <td>did you cover her interaction forum where she ...</td>\n",
       "      <td>0.0</td>\n",
       "    </tr>\n",
       "    <tr>\n",
       "      <th>162978</th>\n",
       "      <td>there big project came into india modi dream p...</td>\n",
       "      <td>0.0</td>\n",
       "    </tr>\n",
       "    <tr>\n",
       "      <th>162979</th>\n",
       "      <td>have you ever listen about like gurukul where ...</td>\n",
       "      <td>1.0</td>\n",
       "    </tr>\n",
       "  </tbody>\n",
       "</table>\n",
       "<p>162969 rows × 2 columns</p>\n",
       "</div>"
      ],
      "text/plain": [
       "                                               clean_text  category\n",
       "0       when modi promised “minimum government maximum...      -1.0\n",
       "1       talk all the nonsense and continue all the dra...       0.0\n",
       "2       what did just say vote for modi  welcome bjp t...       1.0\n",
       "3       asking his supporters prefix chowkidar their n...       1.0\n",
       "4       answer who among these the most powerful world...       1.0\n",
       "...                                                   ...       ...\n",
       "162975  why these 456 crores paid neerav modi not reco...      -1.0\n",
       "162976  dear rss terrorist payal gawar what about modi...      -1.0\n",
       "162977  did you cover her interaction forum where she ...       0.0\n",
       "162978  there big project came into india modi dream p...       0.0\n",
       "162979  have you ever listen about like gurukul where ...       1.0\n",
       "\n",
       "[162969 rows x 2 columns]"
      ]
     },
     "execution_count": 2,
     "metadata": {},
     "output_type": "execute_result"
    }
   ],
   "source": [
    "#Import dataset\n",
    "df = pd.read_csv('Twitter_Data.csv')\n",
    "#Drop rows which contains missing values\n",
    "df = df.dropna()\n",
    "df"
   ]
  },
  {
   "cell_type": "markdown",
   "id": "483fe99a",
   "metadata": {},
   "source": [
    "## 2. Exploratory Data Analysis:\n",
    "### Basic Statistics of dataset:\n",
    "Distribution of samples over sentiment indicates more number of samples in positive followed by neutral and negative."
   ]
  },
  {
   "cell_type": "code",
   "execution_count": 3,
   "id": "d9fd0f54",
   "metadata": {},
   "outputs": [
    {
     "data": {
      "text/plain": [
       "Text(0.5, 1.0, 'Number of samples per sentiment')"
      ]
     },
     "execution_count": 3,
     "metadata": {},
     "output_type": "execute_result"
    },
    {
     "data": {
      "image/png": "[encoded data removed]",
      "text/plain": [
       "<Figure size 432x288 with 1 Axes>"
      ]
     },
     "metadata": {
      "needs_background": "light"
     },
     "output_type": "display_data"
    }
   ],
   "source": [
    "ax = df['category'].plot(kind='hist')\n",
    "ax.set_xlabel('sentiment')\n",
    "ax.set_title('Number of samples per sentiment')"
   ]
  },
  {
   "cell_type": "markdown",
   "id": "6fab7419",
   "metadata": {},
   "source": [
    "### Splitting dataset into training (80%), validation (20%) and test sets (20%):"
   ]
  },
  {
   "cell_type": "code",
   "execution_count": 4,
   "id": "7cd0d5f4",
   "metadata": {},
   "outputs": [
    {
     "name": "stdout",
     "output_type": "stream",
     "text": [
      "(97781, 2) (32594, 2) (32594, 2)\n"
     ]
    }
   ],
   "source": [
    "from sklearn.model_selection import train_test_split\n",
    "\n",
    "train, test = train_test_split(df, test_size=0.2)\n",
    "train, val = train_test_split(train, test_size=0.25)\n",
    "print(train.shape, val.shape, test.shape)"
   ]
  },
  {
   "cell_type": "code",
   "execution_count": 5,
   "id": "e460e7ad",
   "metadata": {},
   "outputs": [
    {
     "data": {
      "image/png": "[encoded data removed]",
      "text/plain": [
       "<Figure size 432x288 with 4 Axes>"
      ]
     },
     "metadata": {},
     "output_type": "display_data"
    }
   ],
   "source": [
    "import matplotlib.pyplot as plt\n",
    "figure = plt.figure()\n",
    "ax = figure.add_subplot(111)\n",
    "ax.set_xlabel('Sentiment')\n",
    "ax.set_ylabel('Frequency', labelpad=20)\n",
    "ax.set_title('Distribution of samples in each sentiment in training, validation and test sets')\n",
    "\n",
    "# Turn off axis lines and ticks of the big subplot\n",
    "ax.spines['top'].set_color('none')\n",
    "ax.spines['bottom'].set_color('none')\n",
    "ax.spines['left'].set_color('none')\n",
    "ax.spines['right'].set_color('none')\n",
    "ax.tick_params(labelcolor='w', top=False, bottom=False, left=False, right=False)\n",
    "\n",
    "ax1 = figure.add_subplot(131)\n",
    "train['category'].hist(ax=ax1)\n",
    "\n",
    "ax2 = figure.add_subplot(132)\n",
    "val['category'].hist(ax=ax2)\n",
    "\n",
    "ax3 = figure.add_subplot(133)\n",
    "test['category'].hist(ax=ax3)\n",
    "\n",
    "plt.tight_layout()\n",
    "plt.show()"
   ]
  },
  {
   "cell_type": "markdown",
   "id": "ab17b6ad",
   "metadata": {},
   "source": [
    "## 3. Defining the model:\n",
    "### Determining sequence length\n",
    "\n",
    "Analyzing the sample lengths by plotting a histogram of number of words inorder to standardize the input text length. \n",
    "Most of the samples contains 15 words but to have larger coverage (between 50th to 75th), choosing output_sequence_length as 20."
   ]
  },
  {
   "cell_type": "code",
   "execution_count": 6,
   "id": "de2e5efa",
   "metadata": {},
   "outputs": [
    {
     "data": {
      "text/plain": [
       "Text(0.5, 1.0, 'Histogram of number of words per sample')"
      ]
     },
     "execution_count": 6,
     "metadata": {},
     "output_type": "execute_result"
    },
    {
     "data": {
      "image/png": "[encoded data removed]",
      "text/plain": [
       "<Figure size 432x288 with 1 Axes>"
      ]
     },
     "metadata": {
      "needs_background": "light"
     },
     "output_type": "display_data"
    }
   ],
   "source": [
    "num_words = df['clean_text'].apply(lambda x: len(str(x).split()))\n",
    "\n",
    "ax = num_words.plot(kind='hist', density=True)\n",
    "ax = num_words.plot(kind='kde', colormap='Oranges_r')\n",
    "ax.axvline(num_words.quantile(0.05), linestyle=':', color='red')\n",
    "ax.text(num_words.quantile(0.05)-.1, 0, \"5th\")\n",
    "ax.axvline(num_words.quantile(0.25), linestyle=':', color='red')\n",
    "ax.text(num_words.quantile(0.25)-.1, 0, \"25th\")\n",
    "ax.axvline(num_words.quantile(0.50), linestyle=':', color='red')\n",
    "ax.text(num_words.quantile(0.50)-.1, 0, \"50th\")\n",
    "ax.axvline(num_words.quantile(0.75), linestyle=':', color='red')\n",
    "ax.text(num_words.quantile(0.75)-.1, 0, \"75th\")\n",
    "ax.axvline(num_words.quantile(0.95), linestyle=':', color='red')\n",
    "ax.text(num_words.quantile(0.95)-.1, 0, \"95th\")\n",
    "ax.set_xlim(0,50)\n",
    "ax.set_xlabel('Number of words')\n",
    "ax.set_title('Histogram of number of words per sample')"
   ]
  },
  {
   "cell_type": "code",
   "execution_count": 7,
   "id": "7762e7ac",
   "metadata": {},
   "outputs": [],
   "source": [
    "# Defining text vectorization layer to convert the input texts\n",
    "from tensorflow.keras.layers import TextVectorization\n",
    "vectorize_layer = TextVectorization(max_tokens = 10000,\n",
    "                                   standardize = 'lower_and_strip_punctuation',\n",
    "                                   output_mode = 'int',\n",
    "                                   output_sequence_length = 20)"
   ]
  },
  {
   "cell_type": "code",
   "execution_count": 8,
   "id": "061e9315",
   "metadata": {
    "scrolled": true
   },
   "outputs": [],
   "source": [
    "#Preparing data (only training data) as list of strings to get it adapt to the vectorization layer\n",
    "df['clean_text'] = train['clean_text'].apply(lambda x: x.strip())\n",
    "data = ' '.join(train['clean_text'].to_list())\n",
    "vectorize_layer.adapt(np.asarray([data]))"
   ]
  },
  {
   "cell_type": "code",
   "execution_count": 9,
   "id": "58166fa1",
   "metadata": {},
   "outputs": [],
   "source": [
    "#Importing libraries to define the model\n",
    "from tensorflow.keras.layers import Dense\n",
    "from tensorflow.keras.models import Sequential\n",
    "from tensorflow.keras import Input\n",
    "import tensorflow as tf"
   ]
  },
  {
   "cell_type": "code",
   "execution_count": 10,
   "id": "5e8e8d16",
   "metadata": {},
   "outputs": [],
   "source": [
    "#Defining simple sequential model with one hiddel layer.\n",
    "model = Sequential()\n",
    "model.add(Input(shape=(1,), dtype=tf.string))\n",
    "model.add(vectorize_layer) #20 nodes\n",
    "model.add(Dense(13, activation=\"relu\")) #13 nodes (choosen by the average of input and output nodes)\n",
    "model.add(Dense(3, activation='softmax')) #3 nodes for 3 outputs\n",
    "model.compile(loss='categorical_crossentropy', optimizer='adam', metrics=['accuracy'])"
   ]
  },
  {
   "cell_type": "code",
   "execution_count": 11,
   "id": "74966bc8",
   "metadata": {},
   "outputs": [
    {
     "name": "stdout",
     "output_type": "stream",
     "text": [
      "Model: \"sequential\"\n",
      "_________________________________________________________________\n",
      " Layer (type)                Output Shape              Param #   \n",
      "=================================================================\n",
      " text_vectorization (TextVec  (None, 20)               0         \n",
      " torization)                                                     \n",
      "                                                                 \n",
      " dense (Dense)               (None, 13)                273       \n",
      "                                                                 \n",
      " dense_1 (Dense)             (None, 3)                 42        \n",
      "                                                                 \n",
      "=================================================================\n",
      "Total params: 315\n",
      "Trainable params: 315\n",
      "Non-trainable params: 0\n",
      "_________________________________________________________________\n"
     ]
    }
   ],
   "source": [
    "model.summary()"
   ]
  },
  {
   "cell_type": "code",
   "execution_count": 12,
   "id": "4cbe4637",
   "metadata": {},
   "outputs": [],
   "source": [
    "#Transforming input texts (np array) and output labels (categorical) into format of the model.\n",
    "from tensorflow.keras.utils import to_categorical\n",
    "\n",
    "x_train = np.array(train['clean_text'].to_list())\n",
    "y_train = to_categorical(train['category'], num_classes=3) \n",
    "x_val = np.array(val['clean_text'].to_list())\n",
    "y_val = to_categorical(val['category'], num_classes=3)\n",
    "x_test = np.array(test['clean_text'].to_list())\n",
    "y_test = to_categorical(val['category'], num_classes=3)"
   ]
  },
  {
   "cell_type": "markdown",
   "id": "3e09d7cf",
   "metadata": {},
   "source": [
    "## 4. Training the model"
   ]
  },
  {
   "cell_type": "code",
   "execution_count": 13,
   "id": "4f026f0d",
   "metadata": {
    "scrolled": true
   },
   "outputs": [
    {
     "name": "stdout",
     "output_type": "stream",
     "text": [
      "Epoch 1/10\n",
      "3056/3056 [==============================] - 13s 4ms/step - loss: 108.6959 - accuracy: 0.3864 - val_loss: 2.2709 - val_accuracy: 0.3953\n",
      "Epoch 2/10\n",
      "3056/3056 [==============================] - 12s 4ms/step - loss: 2.3332 - accuracy: 0.3984 - val_loss: 2.6737 - val_accuracy: 0.3780\n",
      "Epoch 3/10\n",
      "3056/3056 [==============================] - 13s 4ms/step - loss: 2.0306 - accuracy: 0.4017 - val_loss: 1.6920 - val_accuracy: 0.3608\n",
      "Epoch 4/10\n",
      "3056/3056 [==============================] - 12s 4ms/step - loss: 1.7430 - accuracy: 0.4247 - val_loss: 1.7519 - val_accuracy: 0.4132\n",
      "Epoch 5/10\n",
      "3056/3056 [==============================] - 13s 4ms/step - loss: 1.6491 - accuracy: 0.4361 - val_loss: 1.6828 - val_accuracy: 0.3920\n",
      "Epoch 6/10\n",
      "3056/3056 [==============================] - 12s 4ms/step - loss: 1.5706 - accuracy: 0.4408 - val_loss: 1.6384 - val_accuracy: 0.4028\n",
      "Epoch 7/10\n",
      "3056/3056 [==============================] - 12s 4ms/step - loss: 1.4870 - accuracy: 0.4455 - val_loss: 1.3077 - val_accuracy: 0.4399\n",
      "Epoch 8/10\n",
      "3056/3056 [==============================] - 13s 4ms/step - loss: 1.4372 - accuracy: 0.4502 - val_loss: 1.4402 - val_accuracy: 0.4913\n",
      "Epoch 9/10\n",
      "3056/3056 [==============================] - 13s 4ms/step - loss: 1.3606 - accuracy: 0.4569 - val_loss: 1.1351 - val_accuracy: 0.4825\n",
      "Epoch 10/10\n",
      "3056/3056 [==============================] - 13s 4ms/step - loss: 1.2864 - accuracy: 0.4604 - val_loss: 1.1326 - val_accuracy: 0.4906\n"
     ]
    }
   ],
   "source": [
    "# Model is traning and fit\n",
    "history = model.fit(\n",
    "    x_train,\n",
    "    y_train,\n",
    "    epochs=10,\n",
    "    validation_data=(x_val, y_val)\n",
    ")\n",
    "\n",
    "history_dict = history.history\n",
    "loss_values = history_dict[\"loss\"]\n",
    "val_loss_values = history_dict[\"val_loss\"]\n",
    "acc_values = history_dict[\"accuracy\"]\n",
    "val_acc_values = history_dict[\"val_accuracy\"]"
   ]
  },
  {
   "cell_type": "code",
   "execution_count": 14,
   "id": "0f1bfe09",
   "metadata": {},
   "outputs": [
    {
     "data": {
      "image/png": "[encoded data removed]",
      "text/plain": [
       "<Figure size 432x288 with 1 Axes>"
      ]
     },
     "metadata": {
      "needs_background": "light"
     },
     "output_type": "display_data"
    },
    {
     "data": {
      "image/png": "[encoded data removed]",
      "text/plain": [
       "<Figure size 432x288 with 1 Axes>"
      ]
     },
     "metadata": {
      "needs_background": "light"
     },
     "output_type": "display_data"
    }
   ],
   "source": [
    "# Plotting the loss and accuracy of train and test sets to see if the model is overfitting.\n",
    "plt.plot(history.history['accuracy'])\n",
    "plt.plot(history.history['val_accuracy'])\n",
    "\n",
    "plt.title('model accuracy')\n",
    "plt.ylabel('accuracy')\n",
    "plt.xlabel('epoch')\n",
    "plt.legend(['train','val'], loc='upper left')\n",
    "plt.show()\n",
    "\n",
    "plt.plot(history.history['loss'])\n",
    "plt.plot(history.history['val_loss'])\n",
    "\n",
    "plt.title('model loss')\n",
    "plt.ylabel('loss')\n",
    "plt.xlabel('epoch')\n",
    "plt.legend(['train','val'], loc='upper left')\n",
    "plt.show()"
   ]
  },
  {
   "cell_type": "markdown",
   "id": "9875374f",
   "metadata": {},
   "source": [
    "## 5. Model Evaluation"
   ]
  },
  {
   "cell_type": "code",
   "execution_count": 15,
   "id": "0e6e3060",
   "metadata": {},
   "outputs": [
    {
     "name": "stdout",
     "output_type": "stream",
     "text": [
      "1019/1019 [==============================] - 3s 3ms/step - loss: 1.2944 - accuracy: 0.4118\n",
      "Test Score: 1.2944010496139526\n",
      "Test Accuracy: 0.4118242561817169\n"
     ]
    }
   ],
   "source": [
    "# Testing the model on test data\n",
    "score = model.evaluate(x_test, y_test, verbose=1)\n",
    "\n",
    "print(\"Test Score:\", score[0])\n",
    "print(\"Test Accuracy:\", score[1])"
   ]
  },
  {
   "cell_type": "markdown",
   "id": "7bbb1581",
   "metadata": {},
   "source": [
    "## 6. Future work\n",
    "\n",
    "**Fine tuning the following features might help to improve the model accuracy:**\n",
    "1. vocabulary size (max_tokens): Currently chosen vocabulary size is 10,000 but observing the model performance by increasing and decreasing the vocabulary size might help to increase the accuracy.\n",
    "2. Sequence length : Experimenting with different sequence lengths can also help but ideal to be chosen between 15, 20 and 30 according to the histogram.\n",
    "3. Word representations (output_mode) : Here, it is taken as 1, but several representations can be tried such as tf-idf and word embeddings.\n",
    "4. Number of hidden layers : This simple model contains only one hidden layer but adding more hidden layers can help but more complex models might not also perform better.\n",
    "5. Number of nodes in hidden layers: Choosing number of nodes in hidden layers is quite tricky and experimentation is a way to get to know if there is any major difference in the performance.\n",
    "6. Types of hidden layers : Different layers such as dense, LSTM and so on can be implemented based on type of the problem. \n",
    "7. Optimizer of the model : Different optimizers can be used based on the domain.\n",
    "8. Number of epochs : Can be used more number of epochs while training the model\n",
    "**By using these features and making necessary evaluations on these features, model accuracy can be improved.**"
   ]
  },
  {
   "cell_type": "code",
   "execution_count": null,
   "id": "664c21a3",
   "metadata": {},
   "outputs": [],
   "source": []
  }
 ],
 "metadata": {
  "kernelspec": {
   "display_name": "Python 3 (ipykernel)",
   "language": "python",
   "name": "python3"
  },
  "language_info": {
   "codemirror_mode": {
    "name": "ipython",
    "version": 3
   },
   "file_extension": ".py",
   "mimetype": "text/x-python",
   "name": "python",
   "nbconvert_exporter": "python",
   "pygments_lexer": "ipython3",
   "version": "3.9.7"
  }
 },
 "nbformat": 4,
 "nbformat_minor": 5
}
